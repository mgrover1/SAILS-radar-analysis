{
 "cells": [
  {
   "cell_type": "markdown",
   "id": "bc53c290-bc12-48d2-a4fe-f42a28875ea3",
   "metadata": {},
   "source": [
    "# X-Band RHI\n",
    "This covers how to work with and visualize RHI data from the X-band radar"
   ]
  },
  {
   "cell_type": "code",
   "execution_count": null,
   "id": "73284682-568a-48f4-bbaf-f466a6c9407f",
   "metadata": {},
   "outputs": [],
   "source": []
  }
 ],
 "metadata": {
  "kernelspec": {
   "display_name": "Python 3 (ipykernel)",
   "language": "python",
   "name": "python3"
  },
  "language_info": {
   "codemirror_mode": {
    "name": "ipython",
    "version": 3
   },
   "file_extension": ".py",
   "mimetype": "text/x-python",
   "name": "python",
   "nbconvert_exporter": "python",
   "pygments_lexer": "ipython3",
   "version": "3.9.10"
  }
 },
 "nbformat": 4,
 "nbformat_minor": 5
}
